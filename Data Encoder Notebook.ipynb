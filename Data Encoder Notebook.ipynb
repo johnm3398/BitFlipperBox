{
 "cells": [
  {
   "cell_type": "markdown",
   "id": "a50dfc46-eba7-41af-9bae-dd4e5038e6e8",
   "metadata": {},
   "source": [
    "# Data Encode Notebook\n",
    "\n",
    "## Introduction\n",
    "\n",
    "This Jupyter notebook is designed as a note-taking tool and a practical utility for encoding and decoding data between various formats. Its purpose is to provide quick access to common encoding schemes for different data types, facilitating the conversion of data for programming, data processing, and communication tasks. Below is a summary of the encoders and decoders included in this notebook.\n",
    "\n",
    "## Encoders\n",
    "\n",
    "- **Decimal to Binary**: Converts decimal numbers to their binary representation.\n",
    "- **Decimal to Hexadecimal**: Transforms decimal numbers into hexadecimal format, widely used in computing for memory addressing and web color codes.\n",
    "- **Decimal to Octal**: Converts decimal numbers to octal format.\n",
    "- **ASCII Encoder**: Converts text characters into their corresponding ASCII values, essential for text processing and data transmission.\n",
    "- **Base64 Encoder**: Encodes binary data into Base64 format, a technique used to encode binary data into an ASCII string format, commonly used in web data transfer.\n",
    "\n",
    "## Decoders\n",
    "\n",
    "- **Binary to Decimal**: Converts binary numbers back to their decimal form.\n",
    "- **Hexadecimal to Decimal**: Translates hexadecimal numbers into decimal numbers.\n",
    "- **Base64 Decoder**: Decodes Base64 encoded data back into its original binary form.\n",
    "\n",
    "## Handling Specific Data Types\n",
    "\n",
    "To accommodate a broader range of data formats, especially in contexts requiring precise data type handling (such as interfacing with binary protocols or file formats), this notebook also includes functions for:\n",
    "\n",
    "- **Int32 and Int64 Encoding/Decoding**: Functions to encode and decode `int32` and `int64` integers, addressing the need for fixed-width integer processing.\n",
    "- **Unsigned Int Encoding/Decoding**: Specifically for encoding and decoding unsigned integers, commonly used in various computing scenarios where negative numbers are not applicable.\n",
    "- **Float and Double Encoding/Decoding**: To handle floating-point numbers, including both single-precision (float) and double-precision (double) formats, essential for numerical computations and data representation.\n",
    "\n",
    "## Conclusion\n",
    "\n",
    "This notebook serves as a versatile tool for encoding and decoding data across various formats. It aims to streamline the process of data format conversion, making it easier to work with different types of data in programming and data processing tasks.\n"
   ]
  },
  {
   "cell_type": "markdown",
   "id": "ba813104-8818-4138-a8b5-922387e685f7",
   "metadata": {},
   "source": [
    "# Encoders"
   ]
  },
  {
   "cell_type": "code",
   "execution_count": 1,
   "id": "6696aea1-6e07-41fb-9314-309a5412266e",
   "metadata": {},
   "outputs": [],
   "source": [
    "def format_binary_string(binary_str):\n",
    "    \"\"\"\n",
    "    Formats a binary string by clustering digits into 4-bit groups for readability.\n",
    "    \n",
    "    Args:\n",
    "    binary_str (str): The binary string to format, expected to start with '0b '.\n",
    "    \n",
    "    Returns:\n",
    "    str: Formatted binary string with '0b ' prefix and 4-bit clustered digits.\n",
    "    \"\"\"\n",
    "    binary_str = binary_str[2:].zfill(len(binary_str[2:]) + (4 - len(binary_str[2:]) % 4) % 4)\n",
    "    return '0b ' + ' '.join([binary_str[i:i+4] for i in range(0, len(binary_str), 4)])\n",
    "\n",
    "def decimal_to_binary_formatted(decimal_number):\n",
    "    \"\"\"\n",
    "    Converts a decimal number to binary format, with '0b ' prefix and output clustered in 4-bit groups.\n",
    "    \n",
    "    Args:\n",
    "    decimal_number (int): The decimal number to convert.\n",
    "    \n",
    "    Returns:\n",
    "    str: The binary representation of the decimal number, formatted with '0b' prefix and 4-bit clusters.\n",
    "    \"\"\"\n",
    "    binary_str = bin(decimal_number)\n",
    "    return format_binary_string(binary_str)"
   ]
  },
  {
   "cell_type": "code",
   "execution_count": 2,
   "id": "13f90cd2-2059-4e70-831c-a0c0d95f87c1",
   "metadata": {},
   "outputs": [],
   "source": [
    "def decimal_to_hexadecimal_formatted(decimal_number):\n",
    "    \"\"\"\n",
    "    Converts a decimal number to hexadecimal format, prefixed with '0x' and uppercased.\n",
    "    \n",
    "    Args:\n",
    "    decimal_number (int): The decimal number to convert.\n",
    "    \n",
    "    Returns:\n",
    "    str: The hexadecimal representation of the decimal number, prefixed with '0x '.\n",
    "    \"\"\"\n",
    "    hex_str = hex(decimal_number).upper()\n",
    "    formatted_hex = '0x ' + hex_str[2:]\n",
    "    return formatted_hex"
   ]
  },
  {
   "cell_type": "code",
   "execution_count": 3,
   "id": "52a288fe-815b-4ce8-90c1-2cd6cfe94f41",
   "metadata": {},
   "outputs": [],
   "source": [
    "def decimal_to_octal_formatted(decimal_number):\n",
    "    \"\"\"\n",
    "    Converts a decimal number to octal format, following industry standard notation but with an added space before the prefix.\n",
    "    \n",
    "    Args:\n",
    "    decimal_number (int): The decimal number to convert.\n",
    "    \n",
    "    Returns:\n",
    "    str: The octal representation of the decimal number, prefixed with '0o ' (added space).\n",
    "    \"\"\"\n",
    "    return '0o ' + oct(decimal_number)[2:]"
   ]
  },
  {
   "cell_type": "code",
   "execution_count": 9,
   "id": "ce07ca35-87a1-4456-b4f4-c82a4396e605",
   "metadata": {},
   "outputs": [
    {
     "name": "stdout",
     "output_type": "stream",
     "text": [
      "Binary: 0b b101\n",
      "Hexadecimal: 0x X5\n",
      "Octal: 0o o5\n"
     ]
    }
   ],
   "source": [
    "# Example usage:\n",
    "decimal_number = -5\n",
    "print(\"Binary:\", decimal_to_binary_formatted(decimal_number))\n",
    "print(\"Hexadecimal:\", decimal_to_hexadecimal_formatted(decimal_number))\n",
    "print(\"Octal:\", decimal_to_octal_formatted(decimal_number))"
   ]
  },
  {
   "cell_type": "markdown",
   "id": "a288485f-9eba-47d1-a584-d39c4e8b70cd",
   "metadata": {},
   "source": [
    "# Decoders"
   ]
  },
  {
   "cell_type": "code",
   "execution_count": 5,
   "id": "1e847db2-5575-499a-bfc3-0917fc2d0a08",
   "metadata": {},
   "outputs": [
    {
     "name": "stdout",
     "output_type": "stream",
     "text": [
      "255\n"
     ]
    }
   ],
   "source": [
    "def binary_to_decimal_formatted(binary_str):\n",
    "    \"\"\"\n",
    "    Converts a binary string to its decimal representation, handling input with or without spaces.\n",
    "    \n",
    "    Args:\n",
    "    binary_str (str): The binary string to convert, expected to start with '0b' and may contain spaces.\n",
    "    \n",
    "    Returns:\n",
    "    int: The decimal representation of the binary string.\n",
    "    \"\"\"\n",
    "    # Remove spaces and convert\n",
    "    binary_str_cleaned = binary_str.replace(' ', '')\n",
    "    return int(binary_str_cleaned, 2)\n",
    "\n",
    "print(binary_to_decimal_formatted('0b 1111 1111'))"
   ]
  },
  {
   "cell_type": "code",
   "execution_count": 6,
   "id": "d4142837-0eeb-4326-b217-c6d36eaa1588",
   "metadata": {},
   "outputs": [
    {
     "name": "stdout",
     "output_type": "stream",
     "text": [
      "255\n"
     ]
    }
   ],
   "source": [
    "def hexadecimal_to_decimal_formatted(hex_str):\n",
    "    \"\"\"\n",
    "    Converts a hexadecimal string to its decimal representation, handling input with or without spaces.\n",
    "    \n",
    "    Args:\n",
    "    hex_str (str): The hexadecimal string to convert, expected to start with '0x' and may contain spaces.\n",
    "    \n",
    "    Returns:\n",
    "    int: The decimal representation of the hexadecimal string.\n",
    "    \"\"\"\n",
    "    # Remove spaces and convert\n",
    "    hex_str_cleaned = hex_str.replace(' ', '')\n",
    "    return int(hex_str_cleaned, 16)\n",
    "\n",
    "print(hexadecimal_to_decimal_formatted('0x FF'))"
   ]
  },
  {
   "cell_type": "code",
   "execution_count": 7,
   "id": "915f3354-c7e9-40b3-8429-0837f0cc9bfd",
   "metadata": {},
   "outputs": [
    {
     "name": "stdout",
     "output_type": "stream",
     "text": [
      "255\n"
     ]
    }
   ],
   "source": [
    "def octal_to_decimal_standard(octal_str):\n",
    "    \"\"\"\n",
    "    Converts an octal string to its decimal representation, handling input with or without spaces.\n",
    "    \n",
    "    Args:\n",
    "    octal_str (str): The octal string to convert, expected to start with '0o' and may contain spaces.\n",
    "    \n",
    "    Returns:\n",
    "    int: The decimal representation of the octal string.\n",
    "    \"\"\"\n",
    "    # Remove spaces and convert\n",
    "    octal_str_cleaned = octal_str.replace(' ', '')\n",
    "    return int(octal_str_cleaned, 8)\n",
    "\n",
    "print(octal_to_decimal_standard('0o 377'))"
   ]
  },
  {
   "cell_type": "code",
   "execution_count": null,
   "id": "8bfb2363-0366-4251-8d28-eec45fcf77e0",
   "metadata": {},
   "outputs": [],
   "source": []
  }
 ],
 "metadata": {
  "kernelspec": {
   "display_name": "Python 3 (ipykernel)",
   "language": "python",
   "name": "python3"
  },
  "language_info": {
   "codemirror_mode": {
    "name": "ipython",
    "version": 3
   },
   "file_extension": ".py",
   "mimetype": "text/x-python",
   "name": "python",
   "nbconvert_exporter": "python",
   "pygments_lexer": "ipython3",
   "version": "3.11.5"
  }
 },
 "nbformat": 4,
 "nbformat_minor": 5
}
