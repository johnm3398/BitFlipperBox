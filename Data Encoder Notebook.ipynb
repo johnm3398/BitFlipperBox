{
 "cells": [
  {
   "cell_type": "markdown",
   "id": "00208385-71ef-42e3-826f-0c68cf7ec5af",
   "metadata": {},
   "source": [
    "# Data Encoder\n",
    "\n",
    "The purpose of theis notebook is to provide a basic understanding of the various numbering systems such as decimal, binary and hexadecimals for the purpose of software applications. The functions written in this notebook is meant to also function as a tool to convert values between the various data formats and also serves a practice or revision for myslef and other users who might need a structured note of data formats. The following encoder functions are to be included in this notebook:\n",
    "\n",
    "- Decimal-to-Binary Encoder\n",
    "- Decimal-to-Hexadecimal Encoder\n",
    "- Decimal-to-Octal Encoder\n",
    "- Binary-to-Decimal Decoder\n",
    "- Hexadecimal-to-Decimal Decoder\n",
    "- ASCII Encoder\n",
    "- "
   ]
  },
  {
   "cell_type": "code",
   "execution_count": null,
   "id": "cf38fa97-d2c2-4e41-9fe9-1f411855a8eb",
   "metadata": {},
   "outputs": [],
   "source": []
  },
  {
   "cell_type": "code",
   "execution_count": null,
   "id": "02c9b05e-fa18-471e-b254-8166c1581a2f",
   "metadata": {},
   "outputs": [],
   "source": []
  },
  {
   "cell_type": "code",
   "execution_count": null,
   "id": "e858e4d7-81dd-4574-b688-3fb637ff20b4",
   "metadata": {},
   "outputs": [],
   "source": []
  },
  {
   "cell_type": "code",
   "execution_count": null,
   "id": "d8b64437-5441-464e-a098-598d04235cfe",
   "metadata": {},
   "outputs": [],
   "source": []
  },
  {
   "cell_type": "code",
   "execution_count": null,
   "id": "8715a0df-f27c-4cfb-84a6-3092ceb3411b",
   "metadata": {},
   "outputs": [],
   "source": []
  }
 ],
 "metadata": {
  "kernelspec": {
   "display_name": "Python 3 (ipykernel)",
   "language": "python",
   "name": "python3"
  },
  "language_info": {
   "codemirror_mode": {
    "name": "ipython",
    "version": 3
   },
   "file_extension": ".py",
   "mimetype": "text/x-python",
   "name": "python",
   "nbconvert_exporter": "python",
   "pygments_lexer": "ipython3",
   "version": "3.11.5"
  }
 },
 "nbformat": 4,
 "nbformat_minor": 5
}
