{
 "cells": [
  {
   "cell_type": "markdown",
   "id": "a50dfc46-eba7-41af-9bae-dd4e5038e6e8",
   "metadata": {},
   "source": [
    "# BitFlipperBox Notebook"
   ]
  },
  {
   "cell_type": "markdown",
   "id": "96bd9880-9397-49f4-99a2-8816cd8fe7a4",
   "metadata": {},
   "source": [
    "# Introduction\n",
    "\n",
    "This Jupyter notebook is designed as a note-taking tool and a practical utility for encoding and decoding data between various formats. Its purpose is to provide quick access to common encoding schemes for different data types, facilitating the conversion of data for programming, data processing, and communication tasks. Below is a summary of the encoders and decoders included in this notebook."
   ]
  },
  {
   "cell_type": "markdown",
   "id": "a4963c13-6cfe-4e84-a1f6-17a128a76ff0",
   "metadata": {},
   "source": [
    "## Decimal Conversion Functions\n",
    "1. dec_to_bin(decimal_value, signed=False)\n",
    "2. dec_to_hex(decimal_value)\n",
    "3. dec_to_oct(decimal_value)\n",
    "4. dec_to_FracBin(decimal_value, precision=4, signed=False)\n",
    "\n",
    "## Binary Conversions\n",
    "5. bin_to_dec(binary_value, signed=False)\n",
    "6. bin_to_hex(binary_value)\n",
    "7. bin_to_oct(binary_value)\n",
    "8. bin_to_FracDec(binary_value, signed=False)\n",
    "\n",
    "## Hexadecimal Conversions\n",
    "9. hex_to_dec(hex_value)\n",
    "10. hex_to_bin(hex_value)\n",
    "11. hex_to_oct(hex_value)\n",
    "\n",
    "## Octal Comversions\n",
    "12. oct_to_dec(octal_value)\n",
    "13. oct_to_bin(octal_value)\n",
    "14. oct_to_hex(octal_value)\n",
    "\n",
    "## Utility Functions\n",
    "15. split_fractional(number_string)\n",
    "16. combine_fractional(integer_part, fractional_part)\n",
    "17. format_binary_output(binary_string, group_size=4)\n",
    "18. format_hexadecimal_output(hex_string, group_size=2)\n",
    "19. format_octal_output(octal_string, group_size=2)"
   ]
  },
  {
   "cell_type": "markdown",
   "id": "ef896b87-412e-4dc0-82e6-93bcdcf22b08",
   "metadata": {},
   "source": [
    "# 1) Decimal Conversion Functions"
   ]
  },
  {
   "cell_type": "code",
   "execution_count": 3,
   "id": "180bafde-07fa-4b6a-b4e7-76e262cb4db4",
   "metadata": {},
   "outputs": [],
   "source": [
    "def dec_to_bin(decimal_value, signed=False):\n",
    "    \"\"\"\n",
    "    Convert a decimal number to its binary representation, optionally using signed format (two's complement).\n",
    "    \n",
    "    Args:\n",
    "    decimal_value (int): The decimal number to convert.\n",
    "    signed (bool): If True, returns the binary string in two's complement format for negative numbers.\n",
    "    \n",
    "    Returns:\n",
    "    str: The binary representation of the decimal number.\n",
    "    \"\"\"\n",
    "    if decimal_value == 0:\n",
    "        return '0'\n",
    "    \n",
    "    # Determine if the input is negative\n",
    "    negative = decimal_value < 0\n",
    "    \n",
    "    # If negative and signed, use two's complement\n",
    "    if negative and signed:\n",
    "        return two_complement(abs(decimal_value))\n",
    "    \n",
    "    # Converting decimal to binary for positive numbers and non-signed negative numbers\n",
    "    binary_result = ''\n",
    "    n = abs(decimal_value)\n",
    "    while n > 0:\n",
    "        binary_result = str(n % 2) + binary_result\n",
    "        n = n // 2\n",
    "    \n",
    "    # Formatting binary result with sign bit for signed positive numbers\n",
    "    if signed and not negative:\n",
    "        binary_result = '0' + binary_result  # Add leading 0 to denote positive in signed format\n",
    "    \n",
    "    return binary_result\n",
    "\n",
    "def two_complement(decimal_value):\n",
    "    \"\"\"\n",
    "    Convert a decimal number to its binary two's complement representation.\n",
    "    \n",
    "    Args:\n",
    "    decimal_value (int): The absolute value of a negative decimal number to convert.\n",
    "    \n",
    "    Returns:\n",
    "    str: The two's complement binary representation of the decimal number.\n",
    "    \"\"\"\n",
    "    # Initial binary conversion\n",
    "    initial_binary = dec_to_bin(decimal_value)\n",
    "    \n",
    "    # Flip all the bits\n",
    "    flipped_bits = ''.join('1' if x == '0' else '0' for x in initial_binary)\n",
    "    \n",
    "    # Add one to the flipped binary number\n",
    "    binary_list = list(flipped_bits)\n",
    "    length = len(binary_list)\n",
    "    carry = 1\n",
    "    for i in range(length - 1, -1, -1):\n",
    "        if binary_list[i] == '1' and carry == 1:\n",
    "            binary_list[i] = '0'\n",
    "            carry = 1\n",
    "        elif binary_list[i] == '0' and carry == 1:\n",
    "            binary_list[i] = '1'\n",
    "            carry = 0\n",
    "    \n",
    "    # Handle the case where an extra bit is needed\n",
    "    if carry == 1:\n",
    "        binary_list.insert(0, '1')\n",
    "    \n",
    "    return ''.join(binary_list)"
   ]
  },
  {
   "cell_type": "code",
   "execution_count": 5,
   "id": "2bb62a6a-19f4-48a3-b757-3c3142e93ee0",
   "metadata": {},
   "outputs": [
    {
     "data": {
      "text/plain": [
       "'011001'"
      ]
     },
     "execution_count": 5,
     "metadata": {},
     "output_type": "execute_result"
    }
   ],
   "source": [
    "dec_to_bin(25, signed=True)"
   ]
  },
  {
   "cell_type": "code",
   "execution_count": null,
   "id": "d68964df-7f66-4bc4-8c55-38377a4bbd98",
   "metadata": {},
   "outputs": [],
   "source": []
  }
 ],
 "metadata": {
  "kernelspec": {
   "display_name": "Python 3 (ipykernel)",
   "language": "python",
   "name": "python3"
  },
  "language_info": {
   "codemirror_mode": {
    "name": "ipython",
    "version": 3
   },
   "file_extension": ".py",
   "mimetype": "text/x-python",
   "name": "python",
   "nbconvert_exporter": "python",
   "pygments_lexer": "ipython3",
   "version": "3.11.5"
  }
 },
 "nbformat": 4,
 "nbformat_minor": 5
}
